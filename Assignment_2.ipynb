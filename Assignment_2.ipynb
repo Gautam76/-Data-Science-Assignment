{
 "cells": [
  {
   "cell_type": "code",
   "execution_count": null,
   "id": "87bbb005",
   "metadata": {},
   "outputs": [],
   "source": [
    "1.What are the two values of the Boolean data type?\n",
    "How do you write them?\n",
    "\n",
    "Answer:\n",
    "Boolean Data Type\n",
    "\n",
    "There are only two values in the Boolean Data Type, its either true\n",
    "or false \n",
    "generally true represents as 1 or on and on the other hand false \n",
    "represented as 0 or off\n",
    "for example: 1==1 is True\n",
    "             2<1 is False\n",
    "if the value of the variable is either True or False then the type of\n",
    "that variable will be 'bool'\n",
    "a=True\n",
    "Type(a)\n",
    "<class 'bool'>\n",
    "\n",
    "When writing any of the two value of boolean type you must remember \n",
    "that first letter of the value must be a capital letter \n",
    "True \n",
    "False"
   ]
  },
  {
   "cell_type": "code",
   "execution_count": null,
   "id": "d9d06fb9",
   "metadata": {},
   "outputs": [],
   "source": [
    "2. What are the three different types of Boolean operators?\n",
    "\n",
    "Three different type of boolean operators are:\n",
    "    1. or\n",
    "    2. and\n",
    "    3. not\n",
    "    \n",
    "1.  OR Operator: \n",
    "    This operator returns true value id any one of the \n",
    "    output is true.\n",
    "    \n",
    "    A      B      A or B\n",
    "    \n",
    "    True  True    True\n",
    "    \n",
    "    True  False   True\n",
    "    \n",
    "    False True    True\n",
    "    \n",
    "    False False   False\n",
    "    \n",
    "\n",
    "2.  AND Operator:\n",
    "    The Boolean and operator returns False if \n",
    "    any one of the inputs is False else returns True.\n",
    "    \n",
    "    A      B      A and B\n",
    "    \n",
    "    True   True   True\n",
    "    \n",
    "    True   False  False\n",
    "    \n",
    "    False  True   False\n",
    "    \n",
    "    False  False  False\n",
    "    \n",
    "    \n",
    "3.  NOT Operator:\n",
    "    The Boolean Not operator only require one argument and returns \n",
    "    the negation of the argument i.e. returns \n",
    "    the True for False and False for True.\n",
    "    \n",
    "    A       Not A\n",
    "    True    False\n",
    "    False   True\n",
    "    "
   ]
  },
  {
   "cell_type": "code",
   "execution_count": null,
   "id": "94f9ece7",
   "metadata": {},
   "outputs": [],
   "source": [
    "3.  Make a list of each Boolean operator's \n",
    "    truth tables (i.e. every possible combination of Boolean\n",
    "    values for the operator and what it evaluate ).\n",
    "    \n",
    "    There are three type of operators\n",
    "\n",
    "    1.  OR Operator: \n",
    "    This operator returns true value id any one of the \n",
    "    output is true.\n",
    "    \n",
    "    Truth Table:\n",
    "    \n",
    "    A      B      A or B\n",
    "    \n",
    "    True  True    True\n",
    "    \n",
    "    True  False   True\n",
    "    \n",
    "    False True    True\n",
    "    \n",
    "    False False   False\n",
    "    \n",
    "    \n",
    "    2.  AND Operator:\n",
    "    The Boolean and operator returns False if \n",
    "    any one of the inputs is False else returns True.\n",
    "    \n",
    "    Truth Table:\n",
    "    \n",
    "    A      B      A and B\n",
    "    \n",
    "    True   True   True\n",
    "    \n",
    "    True   False  False\n",
    "    \n",
    "    False  True   False\n",
    "    \n",
    "    False  False  False\n",
    "    \n",
    "    \n",
    "    3.  NOT Operator:\n",
    "    The Boolean Not operator only require one argument and returns \n",
    "    the negation of the argument i.e. returns \n",
    "    the True for False and False for True.\n",
    "    \n",
    "    Truth Table:\n",
    "    \n",
    "    A       Not A\n",
    "    True    False\n",
    "    False   True\n",
    "    "
   ]
  },
  {
   "cell_type": "code",
   "execution_count": null,
   "id": "9cb8cfa8",
   "metadata": {},
   "outputs": [],
   "source": [
    "4. What are the values of the following expressions?"
   ]
  },
  {
   "cell_type": "code",
   "execution_count": 2,
   "id": "fa48c2e9",
   "metadata": {},
   "outputs": [
    {
     "data": {
      "text/plain": [
       "False"
      ]
     },
     "execution_count": 2,
     "metadata": {},
     "output_type": "execute_result"
    }
   ],
   "source": [
    "(5 > 4) and (3 == 5)\n",
    "\n",
    "    "
   ]
  },
  {
   "cell_type": "code",
   "execution_count": 3,
   "id": "7f51d943",
   "metadata": {},
   "outputs": [
    {
     "data": {
      "text/plain": [
       "False"
      ]
     },
     "execution_count": 3,
     "metadata": {},
     "output_type": "execute_result"
    }
   ],
   "source": [
    "not (5 > 4)"
   ]
  },
  {
   "cell_type": "code",
   "execution_count": 5,
   "id": "b015c740",
   "metadata": {},
   "outputs": [
    {
     "data": {
      "text/plain": [
       "True"
      ]
     },
     "execution_count": 5,
     "metadata": {},
     "output_type": "execute_result"
    }
   ],
   "source": [
    "(5 > 4) or (3 == 5)"
   ]
  },
  {
   "cell_type": "code",
   "execution_count": 4,
   "id": "a13857bc",
   "metadata": {},
   "outputs": [
    {
     "data": {
      "text/plain": [
       "False"
      ]
     },
     "execution_count": 4,
     "metadata": {},
     "output_type": "execute_result"
    }
   ],
   "source": [
    "not((5 > 4) or (3 == 5))"
   ]
  },
  {
   "cell_type": "code",
   "execution_count": 6,
   "id": "81b62735",
   "metadata": {},
   "outputs": [
    {
     "data": {
      "text/plain": [
       "False"
      ]
     },
     "execution_count": 6,
     "metadata": {},
     "output_type": "execute_result"
    }
   ],
   "source": [
    "(True and True) and (True == False)"
   ]
  },
  {
   "cell_type": "code",
   "execution_count": 7,
   "id": "83d1f642",
   "metadata": {},
   "outputs": [
    {
     "data": {
      "text/plain": [
       "True"
      ]
     },
     "execution_count": 7,
     "metadata": {},
     "output_type": "execute_result"
    }
   ],
   "source": [
    "(not False) or (not True)"
   ]
  },
  {
   "cell_type": "code",
   "execution_count": null,
   "id": "3bd6d0fa",
   "metadata": {},
   "outputs": [],
   "source": [
    "5. What are the six comparison operators?\n",
    "\n",
    "1. ==(Equal) If the values of two operands are equal, then the \n",
    "    condition becomes true.\n",
    "(a == b) is not true.\n",
    "\n",
    "2. !=(Not Equal) If values of two operands are not equal, then\n",
    "    condition becomes true.\n",
    "(a != b) is true\n",
    "\n",
    "3. >(Greater Than) If the value of left operand is greater than \n",
    "    the value of right operand, then condition becomes true.\n",
    "    (a > b) is not true.\n",
    "\n",
    "4. <(Less Than) If the value of left operand is less than the \n",
    "    value of right operand, then condition becomes true.\n",
    "    (a < b) is true.\n",
    "\n",
    "5. >=(Greater Than or Eqauls to)If the value of left operand \n",
    "    is greater than or equal to the value of right operand, then \n",
    "    condition becomes true.\n",
    "    (a >= b) is not true.\n",
    "    \n",
    "6. <=(less than or equal to)If the value of left operand is \n",
    "    less than or equal to the value of right operand, then\n",
    "    (a <= b) is true."
   ]
  },
  {
   "cell_type": "code",
   "execution_count": null,
   "id": "f85efa8b",
   "metadata": {},
   "outputs": [],
   "source": [
    "6. How do you tell the difference between the equal to and \n",
    "    assignment operators?Describe a condition and \n",
    "    when you would use one.\n",
    "    \n",
    "    =  is a assignment operator. It assigns value from right side \n",
    "    to the left side\n",
    "    a = 10\n",
    "    <-----\n",
    "    while on the other hand \n",
    "    ==(Equal to) check if the values of two operands are eqaul \n",
    "    or not\n",
    "    \n",
    "    Example:\n",
    "    a=5\n",
    "    b=7\n",
    "    \n",
    "    a==b\n",
    "    \n",
    "    a is not equals to b "
   ]
  },
  {
   "cell_type": "code",
   "execution_count": null,
   "id": "88cdef9d",
   "metadata": {},
   "outputs": [],
   "source": [
    "7. Identify the three blocks in this code:\n",
    "\n",
    "1st Block of Code\n",
    "\n",
    "   spam = 0\n",
    "    (In this block a value is assigned to the variable.)\n",
    "______________________________________________________________\n",
    "\n",
    "2nd Block of Code\n",
    "\n",
    "    if spam == 10:\n",
    "        print('eggs')\n",
    "        \n",
    "    (In this block of code condition is checked wheather value \n",
    "    in the spam is eqaul to 10 or not, if both the values \n",
    "    are equal then it will print 'eggs'otherwise it will move on\n",
    "    to the next block of code )\n",
    "________________________________________________________________    \n",
    "\n",
    "3rd Block of Code\n",
    "\n",
    "    if spam > 5:\n",
    "        print('bacon')\n",
    "    else:\n",
    "        print ('ham')\n",
    "        print('spam')\n",
    "        print('spam')\n",
    "    \n",
    "    (In this block of code firstly a conditon is checked wheather \n",
    "     the value in the spam variable isgreater than 5 and if the \n",
    "     conditon is true then it will print 'bacon' otherwise it will\n",
    "     print 'ham','spam','spam').\n",
    "___________________________________________________________________\n"
   ]
  },
  {
   "cell_type": "code",
   "execution_count": null,
   "id": "97fd3b52",
   "metadata": {},
   "outputs": [],
   "source": [
    "8. Write code that prints Hello if 1 is stored in spam, prints \n",
    "Howdy if 2 is stored in spam, and prints Greetings! if anything \n",
    "else is stored in spam."
   ]
  },
  {
   "cell_type": "code",
   "execution_count": 10,
   "id": "4cf7b848",
   "metadata": {},
   "outputs": [
    {
     "name": "stdout",
     "output_type": "stream",
     "text": [
      "Enter a number(1 or 2):4\n",
      "Greetings!\n"
     ]
    }
   ],
   "source": [
    "spam = int(input(\"Enter a number(1 or 2):\"))\n",
    "if(spam==1):\n",
    "    print('Hello')\n",
    "elif(spam==2):\n",
    "    print('Howdy')\n",
    "else:\n",
    "    print('Greetings!')"
   ]
  },
  {
   "cell_type": "code",
   "execution_count": null,
   "id": "e6369d9a",
   "metadata": {},
   "outputs": [],
   "source": [
    "9.If your programme is stuck in an endless loop, \n",
    "what keys you’ll press?\n",
    "\n",
    "Answer:\n",
    "    ctrl+c"
   ]
  },
  {
   "cell_type": "code",
   "execution_count": null,
   "id": "543df336",
   "metadata": {},
   "outputs": [],
   "source": [
    "10. How can you tell the difference between break and continue?\n",
    "\n",
    "Answer:\n",
    "    Break -\n",
    "    1. It eliminates the execution of remaining \n",
    "        iteration of loop.\n",
    "    2. ‘break’ will resume control of program to the end of \n",
    "        loop enclosing that ‘break’.\n",
    "    3. It early terminates the loop.\n",
    "    4. The ‘break ‘stop the continuation of the loop.\n",
    "    \n",
    "    Continue -\n",
    "    1. It will terminate only the current iteration of loop.\n",
    "    \n",
    "    2. The ‘continue’ will resume the control of the program to \n",
    "        next iteration of that loop enclosing ‘continue'\n",
    "    \n",
    "    3. It causes the early execution of the next iteration.\n",
    "    \n",
    "    4. The ‘continue’ does not stop the continuation of loop\n",
    "        and it stops the current."
   ]
  },
  {
   "cell_type": "code",
   "execution_count": 11,
   "id": "a63624e3",
   "metadata": {},
   "outputs": [
    {
     "name": "stdout",
     "output_type": "stream",
     "text": [
      "0\n",
      "1\n",
      "2\n",
      "3\n",
      "4\n",
      "5\n",
      "6\n",
      "7\n",
      "8\n",
      "9\n"
     ]
    }
   ],
   "source": [
    "for i in range(10):\n",
    "    print(i)"
   ]
  },
  {
   "cell_type": "code",
   "execution_count": 15,
   "id": "86339d7c",
   "metadata": {},
   "outputs": [
    {
     "name": "stdout",
     "output_type": "stream",
     "text": [
      "0\n",
      "1\n",
      "2\n",
      "3\n",
      "4\n",
      "5\n",
      "6\n",
      "7\n",
      "8\n",
      "9\n",
      "10\n"
     ]
    }
   ],
   "source": [
    "for i in range(0,11):\n",
    "    print(i)"
   ]
  },
  {
   "cell_type": "code",
   "execution_count": 14,
   "id": "aff1ad1f",
   "metadata": {},
   "outputs": [
    {
     "name": "stdout",
     "output_type": "stream",
     "text": [
      "0\n",
      "2\n",
      "4\n",
      "6\n",
      "8\n",
      "10\n",
      "12\n",
      "14\n",
      "16\n",
      "18\n"
     ]
    }
   ],
   "source": [
    "for i in range(0,20,2):\n",
    "    print(i)"
   ]
  },
  {
   "cell_type": "code",
   "execution_count": null,
   "id": "39b8cb34",
   "metadata": {},
   "outputs": [],
   "source": [
    "11. In a for loop, what is the difference between \n",
    "    range(10), range(0, 10), and range(0, 10, 1)?\n",
    "    \n",
    "Answer:\n",
    "    1. range(10) means value from 0 to 9.\n",
    "    \n",
    "    output:\n",
    "            0\n",
    "            1\n",
    "            2\n",
    "            3\n",
    "            4\n",
    "            5\n",
    "            6\n",
    "            7\n",
    "            8\n",
    "            9\n",
    "    \n",
    "    2. range(0,10) here start and end point is given, means it start\n",
    "    from 0 and will end at 9 means it will print 10 numbers 0 to 9 \n",
    "    we can manipulate this range as we want \n",
    "    for example:\n",
    "        for i range(1, 10)\n",
    "            here it will print numbers from 1 to 10\n",
    "    output:\n",
    "            1\n",
    "            2\n",
    "            3\n",
    "            4\n",
    "            5\n",
    "            6\n",
    "            7\n",
    "            8\n",
    "            9\n",
    "            10\n",
    "            \n",
    "    3. range(0,10,1) here it will print numbers from 0 to 9 with \n",
    "        a difference of 1 \n",
    "        example:\n",
    "                for i range (0,10,2):\n",
    "                    print(i)\n",
    "                \n",
    "        output:\n",
    "        \n",
    "            0\n",
    "            1\n",
    "            2\n",
    "            3\n",
    "            4\n",
    "            5\n",
    "            6\n",
    "            7\n",
    "            8\n",
    "            9"
   ]
  },
  {
   "cell_type": "code",
   "execution_count": null,
   "id": "1d8d4bde",
   "metadata": {},
   "outputs": [],
   "source": [
    "12. Write a short program that prints the numbers 1 to 10 \n",
    "using a for loop. Then write an equivalent program that \n",
    "prints the numbers 1 to 10 using a while loop.\n"
   ]
  },
  {
   "cell_type": "code",
   "execution_count": 1,
   "id": "7da9c42d",
   "metadata": {},
   "outputs": [
    {
     "name": "stdout",
     "output_type": "stream",
     "text": [
      "1\n",
      "2\n",
      "3\n",
      "4\n",
      "5\n",
      "6\n",
      "7\n",
      "8\n",
      "9\n",
      "10\n"
     ]
    }
   ],
   "source": [
    "# prints the numbers 1 to 10 using a for loop\n",
    "\n",
    "for i in range(1,11):\n",
    "    print(i)"
   ]
  },
  {
   "cell_type": "code",
   "execution_count": 5,
   "id": "654af963",
   "metadata": {},
   "outputs": [
    {
     "name": "stdout",
     "output_type": "stream",
     "text": [
      "1\n",
      "2\n",
      "3\n",
      "4\n",
      "5\n",
      "6\n",
      "7\n",
      "8\n",
      "9\n",
      "10\n"
     ]
    }
   ],
   "source": [
    "#print the numbers 1 to 10 using a while loop.\n",
    "\n",
    "i = 1\n",
    "\n",
    "while(i<=10):\n",
    "    print(i)\n",
    "    i += 1"
   ]
  },
  {
   "cell_type": "code",
   "execution_count": null,
   "id": "ba340499",
   "metadata": {},
   "outputs": [],
   "source": [
    "13. If you had a function named bacon() inside a module named \n",
    "spam, how would you call it after importing spam?\n",
    "\n",
    "Answer:\n",
    "If any function is inside a module is called by the DOT(.) Operator\n",
    "\n",
    "How to call a function which is inside a module?\n",
    "    import module_name\n",
    "    module_name.function_name()\n",
    "\n",
    "how would you call bacon() after importing spam?\n",
    "import spam\n",
    "spam.bacon()\n"
   ]
  }
 ],
 "metadata": {
  "kernelspec": {
   "display_name": "Python 3 (ipykernel)",
   "language": "python",
   "name": "python3"
  },
  "language_info": {
   "codemirror_mode": {
    "name": "ipython",
    "version": 3
   },
   "file_extension": ".py",
   "mimetype": "text/x-python",
   "name": "python",
   "nbconvert_exporter": "python",
   "pygments_lexer": "ipython3",
   "version": "3.10.9"
  }
 },
 "nbformat": 4,
 "nbformat_minor": 5
}
