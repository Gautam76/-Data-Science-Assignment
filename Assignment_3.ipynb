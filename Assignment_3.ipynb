{
 "cells": [
  {
   "cell_type": "code",
   "execution_count": null,
   "id": "dd08ee7d",
   "metadata": {},
   "outputs": [],
   "source": [
    "1. Why are functions advantageous to have in your programs?\n",
    "\n",
    "Python functions have the following advantages.\n",
    "\n",
    "    1. By including functions, we can prevent repeating the same code \n",
    "    block repeatedly in a program.\n",
    "\n",
    "    2. Python functions, once defined, can be called many times \n",
    "    and from anywhere in a program.\n",
    "\n",
    "    3. If our Python program is large, it can be \n",
    "    separated into numerous functions which is simple to track.\n",
    "\n",
    "    4. The key accomplishment of Python functions is we \n",
    "    can return as many outputs as we want with different arguments."
   ]
  },
  {
   "cell_type": "code",
   "execution_count": null,
   "id": "d6f2364c",
   "metadata": {},
   "outputs": [],
   "source": [
    "2. When does the code in a function run: when its specified or \n",
    "    when its called?\n",
    "    \n",
    "Answer:\n",
    "    Function runs when the function is called "
   ]
  },
  {
   "cell_type": "code",
   "execution_count": null,
   "id": "8189edd6",
   "metadata": {},
   "outputs": [],
   "source": [
    "3. What statement creates a function?\n",
    "\n",
    "Answer:\n",
    "    The Statement that creates functions is \n",
    "        def function_name:"
   ]
  },
  {
   "cell_type": "code",
   "execution_count": null,
   "id": "12e0b16d",
   "metadata": {},
   "outputs": [],
   "source": [
    "4. What is the difference between a function and a function call?\n",
    "\n",
    "FUNCTION:\n",
    "A function is a piece of code which enhanced the reusability \n",
    "and modularity of your program. It means that piece of code \n",
    "need not be written again.\n",
    "\n",
    "FUNCTION CALL:\n",
    "A function call means invoking or calling that function. \n",
    "Unless a function is called there is no use of that function.\n"
   ]
  },
  {
   "cell_type": "code",
   "execution_count": null,
   "id": "8bf2bb59",
   "metadata": {},
   "outputs": [],
   "source": [
    "5. How many global scopes are there in a Python program? \n",
    "    How many local scopes?\n",
    "\n",
    "Global scope in python\n",
    "\n",
    "Theres only one global Python scope per program execution.\n",
    "This scope remains in existence until the program terminates \n",
    "and all its names are forgotten. Otherwise, the next time you \n",
    "were to run the program, the names would remember their values \n",
    "from the previous run.\n",
    "______________________________________________________________\n",
    "\n",
    "Local Scope in Python\n",
    "\n",
    "A variable created inside a function belongs to the local scope \n",
    "of that function, and can only be used inside that function.\n"
   ]
  },
  {
   "cell_type": "code",
   "execution_count": null,
   "id": "e4c0d173",
   "metadata": {},
   "outputs": [],
   "source": [
    "6. What happens to variables in a local scope when the \n",
    "function call returns?\n",
    "\n",
    "When the execution of the function terminates (returns),\n",
    "the local variables are destroyed."
   ]
  },
  {
   "cell_type": "code",
   "execution_count": null,
   "id": "e941bf82",
   "metadata": {},
   "outputs": [],
   "source": [
    "7. What is the concept of a return value? Is it possible to \n",
    "    have a return value in an expression?\n",
    "\n",
    "Answer:\n",
    "    A return is a value that a function returns to the calling \n",
    "    script or function when it completes its task. A return value \n",
    "    can be any one of the four variable types: handle, integer, \n",
    "    object, or string. The type of value your function \n",
    "    returns depends largely on the task it performs.\n",
    "    \n",
    "    If the data type of the expression is different from the \n",
    "    function return type, conversion of the return \n",
    "    value takes place as if the value of the expression were\n",
    "    assigned to an object with the same function return type.\n",
    "    For a function of return type void , a return statement \n",
    "    is not strictly necessary.\n"
   ]
  },
  {
   "cell_type": "code",
   "execution_count": null,
   "id": "1b12067f",
   "metadata": {},
   "outputs": [],
   "source": [
    "8. If a function does not have a return statement,\n",
    "what is the return value of a call to that function?\n",
    "\n",
    "Answer: \n",
    "    the return value of the called function is undefined."
   ]
  },
  {
   "cell_type": "code",
   "execution_count": null,
   "id": "aec90b35",
   "metadata": {},
   "outputs": [],
   "source": [
    "9. How do you make a function variable refer to the global variable?\n",
    "\n",
    "Answer: To create a global variable inside a function, \n",
    "        you can use the global keyword.\n",
    "    For Example:\n",
    "                def myfunc():\n",
    "                  global x\n",
    "                      x = \"fantastic\"\n",
    "\n",
    "                myfunc()\n",
    "\n",
    "                print(\"Python is \" + x)"
   ]
  },
  {
   "cell_type": "code",
   "execution_count": null,
   "id": "de776f7b",
   "metadata": {},
   "outputs": [],
   "source": [
    "10. What is the data type of None?\n",
    "\n",
    "Answer: NoneType is the data type of None"
   ]
  },
  {
   "cell_type": "code",
   "execution_count": 1,
   "id": "dbcf92e7",
   "metadata": {},
   "outputs": [
    {
     "data": {
      "text/plain": [
       "NoneType"
      ]
     },
     "execution_count": 1,
     "metadata": {},
     "output_type": "execute_result"
    }
   ],
   "source": [
    "type(None)"
   ]
  },
  {
   "cell_type": "code",
   "execution_count": null,
   "id": "97300c96",
   "metadata": {},
   "outputs": [],
   "source": [
    "11. What does the sentence import areallyourpetsnamederic do?\n",
    "\n",
    "    Answer: That import statement imports a module named \n",
    "            areallyourpetsnamederic means it imports all the \n",
    "            functions present in the module areallyourpetsnamederic. \n",
    "            \n"
   ]
  },
  {
   "cell_type": "code",
   "execution_count": null,
   "id": "1f632798",
   "metadata": {},
   "outputs": [],
   "source": [
    "12. If you had a bacon() feature in a spam module, \n",
    "    what would you call it after importing spam?\n",
    "    \n",
    "    Fucntion inside the module can be called using dot(.)operator and \n",
    "    \n",
    "    this bacon() function can be caled using spam.bacon()"
   ]
  },
  {
   "cell_type": "code",
   "execution_count": null,
   "id": "33789209",
   "metadata": {},
   "outputs": [],
   "source": [
    "13. What can you do to save a programme from crashing\n",
    "    if it encounters an error?\n",
    "    \n",
    "    Answer: To prevent program for crashing if any error occured\n",
    "        then we use error handling to notify the user of why the error\n",
    "        has occured and gracefully exit the process that caused \n",
    "        the error.\n",
    "        "
   ]
  },
  {
   "cell_type": "code",
   "execution_count": null,
   "id": "a33e2644",
   "metadata": {},
   "outputs": [],
   "source": [
    "14. What is the purpose of the try clause? What is the \n",
    "purpose of the except clause?\n",
    "\n",
    "try Clause:\n",
    "    If we are getting suspicious of getting error then we use \n",
    "    try clause to prent the error.\n",
    "\n",
    "except clause:\n",
    "    it catches and handle those errors which were encountered in \n",
    "    the try clause"
   ]
  }
 ],
 "metadata": {
  "kernelspec": {
   "display_name": "Python 3 (ipykernel)",
   "language": "python",
   "name": "python3"
  },
  "language_info": {
   "codemirror_mode": {
    "name": "ipython",
    "version": 3
   },
   "file_extension": ".py",
   "mimetype": "text/x-python",
   "name": "python",
   "nbconvert_exporter": "python",
   "pygments_lexer": "ipython3",
   "version": "3.10.9"
  }
 },
 "nbformat": 4,
 "nbformat_minor": 5
}
