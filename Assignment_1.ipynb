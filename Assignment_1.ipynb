{
 "cells": [
  {
   "cell_type": "code",
   "execution_count": null,
   "id": "851649fb",
   "metadata": {},
   "outputs": [],
   "source": [
    "# 1. In the below elements which of them are values or an expression? eg:- values can be integer or string and expressions will be mathematical operators.\n",
    "\n",
    "Answer:\n",
    "\n",
    "* - multiplication operator \n",
    "'hello' - value\n",
    "-87.8 - value\n",
    "-  operation\n",
    "/ - operator\n",
    "+ - operator\n",
    "6 - value"
   ]
  },
  {
   "cell_type": "code",
   "execution_count": null,
   "id": "13a6045d",
   "metadata": {},
   "outputs": [],
   "source": [
    "2. What is the difference between string and variable?\n",
    "\n",
    "Answer:\n",
    "\n",
    "Variables: It can  stores data of different type and same type both,\n",
    "    consider it like a box and we have filled it with apples then\n",
    "    that box  is called a Variable and the apples stored in the box \n",
    "    is called value. We can give any name to the variable like \n",
    "    this example, the box filled with apple can be named as APPLES\n",
    "    so that if anyone read the name on a box they can\n",
    "    easily understand that there is apple inside the box\n",
    "    \n",
    " String: string is a series of characters that gives meaning to the\n",
    "    characters for Example: \n",
    "        1. \"Hello\"\n",
    "        2. \"My name is Gautam Awasthi\" etc.."
   ]
  },
  {
   "cell_type": "code",
   "execution_count": null,
   "id": "df0fe2ca",
   "metadata": {},
   "outputs": [],
   "source": [
    "3. Describe three different data types.\n",
    "    \n",
    "Answer:\n",
    "    \n",
    "There are numerous Data Types in Python, some of them are:\n",
    "    \n",
    "    1. Numeric Data type\n",
    "                It stores numeric values. Number objects are created\n",
    "                when you assign values to the variables\n",
    "                a = 10\n",
    "                b = 2\n",
    "                c = 31\n",
    "                \n",
    "                There are 3 type of numeric data types are:\n",
    "                    1. int\n",
    "                    2. float \n",
    "                    3. complex\n",
    "                    \n",
    "                1. int - It stores integer values (-,+,0)\n",
    "                        example: a = 10\n",
    "                                 b = -10\n",
    "                        type of  a and b is int \n",
    "                        \n",
    "                2. float - It stores decimal values \n",
    "                        Example: a = 0.5\n",
    "                                 b = -4.5\n",
    "                        type of a and b is float\n",
    "                        \n",
    "                3. complex - It stores complex number\n",
    "                            note: A complex number can only be\n",
    "                            created using 'j'\n",
    "                        \n",
    "                        for Ex.- a = 2+3j\n",
    "                            \n",
    "                            2 is a Real Number\n",
    "                            3 is a Imaginary Number\n",
    "                             type of a is complex\n",
    "                            \n",
    "    2. String data type (str)\n",
    "                It store Continuous set of characters represented \n",
    "                in either a single qoute('') or double quote(\"\")\n",
    "                \n",
    "                For Ex. - a = \"This is Python\"(double quote)\n",
    "                          b = 'This is Python'(single qoute)\n",
    "    \n",
    "    3. Boolean Data type (bool)\n",
    "            Python boolean type is one of built-in data types which \n",
    "            represents one of the two values either True or False.\n",
    "            \n",
    "            for ex.- a = True\n",
    "                     print(a)\n",
    "                     \n",
    "                    OUTPUT:\n",
    "                        true\n",
    "                    "
   ]
  },
  {
   "cell_type": "code",
   "execution_count": null,
   "id": "0ee75e32",
   "metadata": {},
   "outputs": [],
   "source": [
    "4. What is an expression made up of? What do all expressions do?\n",
    "\n",
    "Answer:\n",
    "    Expression is made up of variable,values and operators \n",
    "    and function calls\n",
    "    for ex. - b = 5+5\n",
    "     here, 5+5 is a expression \n",
    "     Expression produces some values or results after \n",
    "     being interpreted by the python interpreter.\n",
    "     "
   ]
  },
  {
   "cell_type": "code",
   "execution_count": null,
   "id": "a5db1e0f",
   "metadata": {},
   "outputs": [],
   "source": [
    "5. This assignment statements, like spam = 10. What is the difference\n",
    "between an expression and a statement?\n",
    "\n",
    "Answer:\n",
    "        1. Expression: Expression is made up of variable,values, \n",
    "        operators and function calls\n",
    "        for ex. : b = 5+5\n",
    "        here, 5+5 is a expression \n",
    "        Expression produces some values or results after \n",
    "        being interpreted by the python interpreter.\n",
    "     \n",
    "        2. Statement: A statement is an instruction that a Python \n",
    "        interpreter can execute. So, in simple words, \n",
    "        we can say anything written in Python is a statement. \n",
    "        for example: a = 3+2 \n",
    "            (a = 3+2) is a statement\n",
    "        \n",
    "        In the given statement spam = 10 \n",
    "                            \n",
    "            10 is a expression \n",
    "            spam = 10 is a statement"
   ]
  },
  {
   "cell_type": "code",
   "execution_count": 2,
   "id": "c39db3a8",
   "metadata": {},
   "outputs": [
    {
     "data": {
      "text/plain": [
       "23"
      ]
     },
     "execution_count": 2,
     "metadata": {},
     "output_type": "execute_result"
    }
   ],
   "source": [
    "#6. After running the following code, what does the variable bacon contain?\n",
    "bacon = 22\n",
    "bacon + 1"
   ]
  },
  {
   "cell_type": "code",
   "execution_count": 5,
   "id": "117bcdf6",
   "metadata": {},
   "outputs": [
    {
     "data": {
      "text/plain": [
       "'spamspamspam'"
      ]
     },
     "execution_count": 5,
     "metadata": {},
     "output_type": "execute_result"
    }
   ],
   "source": [
    "#7. What should the values of the following two terms be?\n",
    "'spam' + 'spamspam'\n",
    "'spam'*3"
   ]
  },
  {
   "cell_type": "code",
   "execution_count": null,
   "id": "1d333822",
   "metadata": {},
   "outputs": [],
   "source": [
    "8. Why is eggs a valid variable name while 100 is invalid?\n",
    "    \n",
    "    Answer:\n",
    "            Egg is valid Variable because in programming \n",
    "            there is a certain rule that a varible should start with \n",
    "            a alphabet either capital or small but can't be begin with \n",
    "            a numeric value or any other special characters except\n",
    "            underscore(_). \n",
    "    "
   ]
  },
  {
   "cell_type": "code",
   "execution_count": null,
   "id": "0833852b",
   "metadata": {},
   "outputs": [],
   "source": [
    "9. What three functions can be used to get the integer, \n",
    "    floating-point number, or string\n",
    "    version of a value?\n",
    "\n",
    "        Answer: The int(), float(), and str() functions will evaluate \n",
    "        to the integer, floating-point number,\n",
    "        and string versions of the value passed to them."
   ]
  },
  {
   "cell_type": "code",
   "execution_count": null,
   "id": "2d79196d",
   "metadata": {},
   "outputs": [],
   "source": [
    "10. Why does this expression cause an error? How can you fix it?\n",
    "\n",
    "Answer:\n",
    "    \n",
    "'I have eaten'+ 99 + 'burritos'\n",
    "\n",
    "this expression is causing error because you can not concat string \n",
    "with a numeric value\n",
    "\n",
    "correct expression is \n",
    "            'I have eaten'+ '99' + 'burritos'\n",
    "just convert the numeric value into string using single ('')\n",
    "or double(\"\") quotes "
   ]
  }
 ],
 "metadata": {
  "kernelspec": {
   "display_name": "Python 3 (ipykernel)",
   "language": "python",
   "name": "python3"
  },
  "language_info": {
   "codemirror_mode": {
    "name": "ipython",
    "version": 3
   },
   "file_extension": ".py",
   "mimetype": "text/x-python",
   "name": "python",
   "nbconvert_exporter": "python",
   "pygments_lexer": "ipython3",
   "version": "3.10.9"
  }
 },
 "nbformat": 4,
 "nbformat_minor": 5
}
